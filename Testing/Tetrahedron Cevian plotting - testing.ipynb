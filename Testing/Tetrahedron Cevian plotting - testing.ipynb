{
 "cells": [
  {
   "cell_type": "code",
   "execution_count": 1,
   "metadata": {},
   "outputs": [],
   "source": [
    "import os\n",
    "\n",
    "import numpy as np\n",
    "from pprint import pprint\n",
    "from tqdm import tqdm\n",
    "from itertools import product\n",
    "\n",
    "import plotly as py\n",
    "import plotly.graph_objects as go"
   ]
  },
  {
   "cell_type": "code",
   "execution_count": 2,
   "metadata": {},
   "outputs": [
    {
     "name": "stdout",
     "output_type": "stream",
     "text": [
      "c:\\Users\\subst\\Projects\\GitBase\\Tetrahedron-Cevian-Plotting\n",
      "Saving to visualisations dir: c:\\Users\\subst\\Projects\\GitBase\\Tetrahedron-Cevian-Plotting\\visualisations\n"
     ]
    }
   ],
   "source": [
    "os.chdir('../')\n",
    "print(os.getcwd())\n",
    "\n",
    "#if not os.path.exists('visualisations'):\n",
    "#    os.mkdir('visualisations')\n",
    "\n",
    "visualisations_dir = os.getcwd() + '\\\\visualisations'\n",
    "print(f'Saving to visualisations dir: {visualisations_dir}')\n",
    "\n",
    "from Tetrahedron_Cevian_Plotting import TetrahedronCevianPlotting"
   ]
  },
  {
   "cell_type": "code",
   "execution_count": 3,
   "metadata": {},
   "outputs": [],
   "source": [
    "import warnings\n",
    "from collections import namedtuple, deque\n",
    "\n",
    "import numpy as np\n",
    "\n",
    "\n",
    "class LogisticMapGenerator:\n",
    "\n",
    "    ValueRange = namedtuple('ValueRange', 'min max')\n",
    "\n",
    "    # Global Params\n",
    "    depth_range = ValueRange(1, 32)\n",
    "    r_range = ValueRange(0.0, 4.0)\n",
    "    map_range = ValueRange(0.0, 1.0)\n",
    "\n",
    "    valid_ret_types = ('alpha', 'decimal', 'ternary')\n",
    "\n",
    "    def __init__(self,\n",
    "                 x: np.float,\n",
    "                 r: np.float,\n",
    "                 alphabet: str,\n",
    "                 depth: int,\n",
    "                 ret_type: str,\n",
    "                 ret_history: int = 2,\n",
    "                 throwaway_itts: int = 10000\n",
    "                 ):\n",
    "\n",
    "        self.alphabet = alphabet\n",
    "        self.depth = depth\n",
    "        self.r = r\n",
    "\n",
    "        self.ret_type = ret_type\n",
    "        self.ret_history = ret_history\n",
    "\n",
    "        self.brackets = len(self.alphabet) + 1\n",
    "\n",
    "        self.x_vals = np.array([x], dtype=np.float64)\n",
    "        if self.ret_type == 'alpha':\n",
    "            self.labels = np.array([self.__get_label(x)], dtype=str)\n",
    "\n",
    "        self.return_lookups = {'alpha': lambda: self.labels,\n",
    "                               'decimal': lambda: np.array(self.x_vals),\n",
    "                               'ternary': lambda: self.__evaluate_ternary()\n",
    "                               }\n",
    "\n",
    "        for _ in range(throwaway_itts):\n",
    "            _ = next(self)\n",
    "\n",
    "    @property\n",
    "    def ret_type(self):\n",
    "        return self.__ret_type\n",
    "\n",
    "    @ret_type.setter\n",
    "    def ret_type(self, ret_type):\n",
    "        if ret_type not in self.valid_ret_types:\n",
    "            warn = f'Valid Return Types are: {self.valid_ret_types}.\\\n",
    "            Default return type used. ret_type set to \"alpha\".'\n",
    "            warnings.warn(warn, UserWarning)\n",
    "            self.__ret_type = 'alpha'\n",
    "        else:\n",
    "            self.__ret_type = ret_type\n",
    "\n",
    "    @property\n",
    "    def ret_history(self):\n",
    "        return self.__ret_history\n",
    "\n",
    "    @ret_history.setter\n",
    "    def ret_history(self, ret_history):\n",
    "        if ret_history <= 0:\n",
    "            warn = f'ret_history must be > 0.\\\n",
    "            ret_hist set to 2.'\n",
    "            warnings.warn(warn, UserWarning)\n",
    "            self.__ret_history = 2\n",
    "\n",
    "        elif (self.ret_type == 'ternary') and (ret_history != 3):\n",
    "            warn = f'ret_history must be = 3 for ret_type = \"ternary\".\\\n",
    "            ret_hist set to 3.'\n",
    "            warnings.warn(warn, UserWarning)\n",
    "            self.__ret_history = 3\n",
    "\n",
    "        else:\n",
    "            self.__ret_history = ret_history\n",
    "\n",
    "    @property\n",
    "    def r(self):\n",
    "        return self.__r\n",
    "\n",
    "    @r.setter\n",
    "    def r(self, r):\n",
    "        if self.r_range.min < r < self.r_range.max:\n",
    "            self.__r = r\n",
    "        else:\n",
    "            error = f'r-value must be in the range \\\n",
    "            ({self.r_range.min} - f{self.r_range.max}).'\n",
    "            raise ValueError(error)\n",
    "\n",
    "    @property\n",
    "    def depth(self):\n",
    "        return self.__depth\n",
    "\n",
    "    @depth.setter\n",
    "    def depth(self, depth):\n",
    "        if self.depth_range.min <= depth <= self.depth_range.max:\n",
    "            self.__depth = int(depth)\n",
    "        else:\n",
    "            error = f'depth must be in the range \\\n",
    "            [{self.depth_range.min} - {self.depth_range.max}].'\n",
    "            raise ValueError(error)\n",
    "\n",
    "    def __get_label(self, x):\n",
    "\n",
    "        # Helper function -> get brackets w/ endpoints\n",
    "        # & appropriate brackets count\n",
    "        def get_brackets(start, stop):\n",
    "            return np.linspace(start=start,\n",
    "                               stop=stop,\n",
    "                               num=self.brackets,\n",
    "                               endpoint=True)\n",
    "\n",
    "        # set initial search brackets\n",
    "        search_brackets = get_brackets(start=self.map_range.min,\n",
    "                                       stop=self.map_range.max)\n",
    "\n",
    "        # squence representation of decimal value\n",
    "        sequence = ''\n",
    "        for _ in range(self.depth):\n",
    "            # find first index larger than input value\n",
    "            # -> new search brackets = [value_index: value_index+1]\n",
    "            value_index = np.argmax(search_brackets > x) - 1\n",
    "\n",
    "            # Update sequence w/ new state\n",
    "            sequence += self.alphabet[value_index]\n",
    "\n",
    "            min_lim = search_brackets[value_index]\n",
    "            max_lim = search_brackets[value_index + 1]\n",
    "            search_brackets = get_brackets(start=min_lim,\n",
    "                                           stop=max_lim)\n",
    "\n",
    "        return sequence\n",
    "\n",
    "    def __evaluate_ternary(self):\n",
    "        return np.array(self.x_vals) / np.sum(self.x_vals)\n",
    "\n",
    "    def __evaluate_map(self):\n",
    "        last_x = self.x_vals[-1]\n",
    "        return last_x * (1 - last_x) * self.r\n",
    "\n",
    "    def __next__(self):\n",
    "        \n",
    "        while len(self.x_vals) <= self.ret_history:\n",
    "            next_x = self.__evaluate_map()\n",
    "            self.x_vals= np.append(self.x_vals, next_x)\n",
    "            \n",
    "            if self.ret_type == 'alpha':\n",
    "                next_label = self.__get_label(next_x)\n",
    "                self.labels = np.append(self.labels, next_label)\n",
    "                \n",
    "        if len(self.x_vals) >= self.ret_history:\n",
    "            self.x_vals = self.x_vals[1:]\n",
    "            if self.ret_type == 'alpha':\n",
    "                self.labels = self.labels[1:]\n",
    "\n",
    "        return self.return_lookups[self.ret_type]()"
   ]
  },
  {
   "cell_type": "code",
   "execution_count": 4,
   "metadata": {},
   "outputs": [
    {
     "name": "stderr",
     "output_type": "stream",
     "text": [
      "100%|████████████████████████████████████████████████████████████████████████████████| 196/196 [00:07<00:00, 24.87it/s]\n"
     ]
    }
   ],
   "source": [
    "\n",
    "\n",
    "logi_gen = LogisticMapGenerator(x = np.random.rand(),\n",
    "                               r = 1.2,\n",
    "                               alphabet = 'ABCD',\n",
    "                               depth = 6,\n",
    "                               ret_type = 'decimal',\n",
    "                               ret_history = 1,\n",
    "                               throwaway_itts = 1024\n",
    "                              )\n",
    "\n",
    "traces_count = 196\n",
    "itterations_count = 4096\n",
    "plot_traces = []\n",
    "pdata = None\n",
    "labels= []\n",
    "for r_val in tqdm(np.linspace(start=2.9, stop=4.0, num=traces_count, endpoint=False), total=traces_count):\n",
    "\n",
    "    logi_gen = LogisticMapGenerator(x = np.random.rand(),\n",
    "                                   r = r_val,\n",
    "                                   alphabet = 'ABCD',\n",
    "                                   depth = 6,\n",
    "                                   ret_type = 'decimal',\n",
    "                                   ret_history = 1,\n",
    "                                   throwaway_itts = 512\n",
    "                                  )\n",
    "    data = np.array([next(logi_gen) for _ in range(itterations_count)])\n",
    "    \n",
    "    labels.append(r_val)\n",
    "    if not isinstance(pdata, np.ndarray):\n",
    "        pdata = data\n",
    "    else:\n",
    "        pdata= np.append(pdata, data, axis=1)"
   ]
  },
  {
   "cell_type": "code",
   "execution_count": 5,
   "metadata": {},
   "outputs": [
    {
     "name": "stdout",
     "output_type": "stream",
     "text": [
      "Processing Traces:\n"
     ]
    },
    {
     "name": "stderr",
     "output_type": "stream",
     "text": [
      "100%|████████████████████████████████████████████████████████████████████████████████| 196/196 [00:20<00:00,  9.75it/s]\n"
     ]
    },
    {
     "name": "stdout",
     "output_type": "stream",
     "text": [
      "Generating Traces: \n"
     ]
    },
    {
     "name": "stderr",
     "output_type": "stream",
     "text": [
      "100%|██████████████████████████████████████████████████████████████████████████████| 196/196 [00:00<00:00, 2241.24it/s]\n"
     ]
    },
    {
     "name": "stdout",
     "output_type": "stream",
     "text": [
      "Writing Plot to disk at: c:\\Users\\subst\\Projects\\GitBase\\Tetrahedron-Cevian-Plotting\\visualisations\\2D Triangle Scatter Plot [t=0, t=+1, t=+2] of Logistic Map.html\n",
      "Processing Traces:\n"
     ]
    },
    {
     "name": "stderr",
     "output_type": "stream",
     "text": [
      "100%|████████████████████████████████████████████████████████████████████████████████| 196/196 [00:29<00:00,  6.61it/s]\n"
     ]
    },
    {
     "name": "stdout",
     "output_type": "stream",
     "text": [
      "Generating Traces: \n"
     ]
    },
    {
     "name": "stderr",
     "output_type": "stream",
     "text": [
      "100%|██████████████████████████████████████████████████████████████████████████████| 196/196 [00:00<00:00, 1259.88it/s]\n"
     ]
    },
    {
     "name": "stdout",
     "output_type": "stream",
     "text": [
      "Writing Plot to disk at: c:\\Users\\subst\\Projects\\GitBase\\Tetrahedron-Cevian-Plotting\\visualisations\\3D Tetrahedron Scatter Plot [t=0, t=+1, t=+2, t=+3] of Logistic Map.html\n"
     ]
    }
   ],
   "source": [
    "data_convertor = TetrahedronCevianPlotting(ptype='triangle',\n",
    "                                           fname='2D Triangle Scatter Plot [t=0, t=+1, t=+2] of Logistic Map')\n",
    "plotting_values = data_convertor.plot_data(pdata, labels=labels)\n",
    "\n",
    "data_convertor = TetrahedronCevianPlotting(ptype='tetrahedron',\n",
    "                                           fname='3D Tetrahedron Scatter Plot [t=0, t=+1, t=+2, t=+3] of Logistic Map')\n",
    "data_convertor.plot_data(pdata, labels=labels)"
   ]
  },
  {
   "cell_type": "code",
   "execution_count": null,
   "metadata": {},
   "outputs": [],
   "source": []
  }
 ],
 "metadata": {
  "kernelspec": {
   "display_name": "Python 3",
   "language": "python",
   "name": "python3"
  },
  "language_info": {
   "codemirror_mode": {
    "name": "ipython",
    "version": 3
   },
   "file_extension": ".py",
   "mimetype": "text/x-python",
   "name": "python",
   "nbconvert_exporter": "python",
   "pygments_lexer": "ipython3",
   "version": "3.7.4"
  }
 },
 "nbformat": 4,
 "nbformat_minor": 2
}
